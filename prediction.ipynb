{
 "cells": [
  {
   "cell_type": "code",
   "execution_count": null,
   "id": "d732dbee",
   "metadata": {},
   "outputs": [],
   "source": [
    "with open('reg_model.pkl','rb') as f:\n",
    "    req_model=pickle"
   ]
  },
  {
   "cell_type": "code",
   "execution_count": 10,
   "id": "1d9919ed",
   "metadata": {},
   "outputs": [
    {
     "ename": "AttributeError",
     "evalue": "'LGBMRegressor' object has no attribute 'transform'",
     "output_type": "error",
     "traceback": [
      "\u001b[1;31m---------------------------------------------------------------------------\u001b[0m",
      "\u001b[1;31mAttributeError\u001b[0m                            Traceback (most recent call last)",
      "Cell \u001b[1;32mIn[10], line 37\u001b[0m\n\u001b[0;32m     30\u001b[0m input_df[features_to_log1p]\u001b[38;5;241m=\u001b[39minput_df[features_to_log1p]\u001b[38;5;241m.\u001b[39mapply (np\u001b[38;5;241m.\u001b[39mlog1p)\n\u001b[0;32m     32\u001b[0m columns_to_standardize\u001b[38;5;241m=\u001b[39m[\u001b[38;5;124m'\u001b[39m\u001b[38;5;124mAge\u001b[39m\u001b[38;5;124m'\u001b[39m, \u001b[38;5;124m'\u001b[39m\u001b[38;5;124mCreditScore\u001b[39m\u001b[38;5;124m'\u001b[39m, \u001b[38;5;124m'\u001b[39m\u001b[38;5;124mLoanAmount\u001b[39m\u001b[38;5;124m'\u001b[39m, \u001b[38;5;124m'\u001b[39m\u001b[38;5;124mLoanDuration\u001b[39m\u001b[38;5;124m'\u001b[39m,\n\u001b[0;32m     33\u001b[0m \u001b[38;5;124m'\u001b[39m\u001b[38;5;124mCreditCardUtilizationRate\u001b[39m\u001b[38;5;124m'\u001b[39m, \u001b[38;5;124m'\u001b[39m\u001b[38;5;124mLengthOfCreditHistory\u001b[39m\u001b[38;5;124m'\u001b[39m,\n\u001b[0;32m     34\u001b[0m \u001b[38;5;124m'\u001b[39m\u001b[38;5;124mMonthlyIncome\u001b[39m\u001b[38;5;124m'\u001b[39m, \u001b[38;5;124m'\u001b[39m\u001b[38;5;124mNetWorth\u001b[39m\u001b[38;5;124m'\u001b[39m, \u001b[38;5;124m'\u001b[39m\u001b[38;5;124mInterestRate\u001b[39m\u001b[38;5;124m'\u001b[39m\n\u001b[0;32m     35\u001b[0m     ]\n\u001b[1;32m---> 37\u001b[0m input_df[columns_to_standardize]\u001b[38;5;241m=\u001b[39m\u001b[43mscaler\u001b[49m\u001b[38;5;241;43m.\u001b[39;49m\u001b[43mtransform\u001b[49m(input_df[columns_to_standardize])\n\u001b[0;32m     38\u001b[0m riskscore\u001b[38;5;241m=\u001b[39mmodel\u001b[38;5;241m.\u001b[39mpredict(input_df)\n",
      "\u001b[1;31mAttributeError\u001b[0m: 'LGBMRegressor' object has no attribute 'transform'"
     ]
    }
   ],
   "source": [
    "from flask import Flask, render_template ,request\n",
    "import pickle\n",
    "import numpy as np\n",
    "import pandas as pd\n",
    "\n",
    "model=pickle.load(open(\"regresseion_model.pkl\",'rb'))\n",
    "scaler=pickle.load(open(\"scaler.pkl\",'rb'))\n",
    "\n",
    "input_data={\n",
    "        'Age': 22,\n",
    "        'CreditScore':10,\n",
    "        'EmploymentStatus':'employed',\n",
    "        'EducationLevel':'High School',\n",
    "        'LoanAmount':50000,\n",
    "        'LoanDuration':12,\n",
    "        'CreditCardUtilizationRate': 10,\n",
    "        'BankruptcyHistory': 'Yes',\n",
    "        'PreviousLoanDefaults':'No',\n",
    "        'LengthOfCreditHistory':12,\n",
    "        'MonthlyIncome': 12000,\n",
    "        'NetWorth':1200,\n",
    "        'InterestRate':10,\n",
    "    }\n",
    "input_df = pd.DataFrame([input_data])\n",
    "input_df['EmploymentStatus']=input_df['EmploymentStatus'].map({'Unemployed':0,'Self-Employed':1,'Employed':2})\n",
    "input_df['EducationLevel']=input_df['EducationLevel'].map({'High School':0,'Associate':1,'Bachelor':2,'Master':3,'Doctorate':4})\n",
    "\n",
    "features_to_log1p=['LoanAmount','MonthlyIncome','NetWorth']\n",
    "\n",
    "input_df[features_to_log1p]=input_df[features_to_log1p].apply (np.log1p)\n",
    "\n",
    "columns_to_standardize=['Age', 'CreditScore', 'LoanAmount', 'LoanDuration',\n",
    "'CreditCardUtilizationRate', 'LengthOfCreditHistory',\n",
    "'MonthlyIncome', 'NetWorth', 'InterestRate'\n",
    "    ]\n",
    "\n",
    "input_df[columns_to_standardize]=scaler.transform(input_df[columns_to_standardize])\n",
    "riskscore=model.predict(input_df)\n",
    "    "
   ]
  }
 ],
 "metadata": {
  "kernelspec": {
   "display_name": "base",
   "language": "python",
   "name": "python3"
  },
  "language_info": {
   "codemirror_mode": {
    "name": "ipython",
    "version": 3
   },
   "file_extension": ".py",
   "mimetype": "text/x-python",
   "name": "python",
   "nbconvert_exporter": "python",
   "pygments_lexer": "ipython3",
   "version": "3.12.4"
  }
 },
 "nbformat": 4,
 "nbformat_minor": 5
}
